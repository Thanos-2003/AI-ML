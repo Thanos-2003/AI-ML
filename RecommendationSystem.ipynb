{
 "cells": [
  {
   "cell_type": "code",
   "execution_count": 1,
   "metadata": {
    "collapsed": true
   },
   "outputs": [],
   "source": [
    "import pandas as pd\n",
    "from sklearn.model_selection import train_test_split\n",
    "from sklearn.metrics.pairwise import cosine_similarity\n",
    "import numpy as np"
   ]
  },
  {
   "cell_type": "code",
   "execution_count": 38,
   "outputs": [],
   "source": [
    "rating_data = pd.read_csv(\"D:\\dataset\\Rating.csv\")\n",
    "movies_data = pd.read_csv(\"D:\\dataset\\movies.csv\")"
   ],
   "metadata": {
    "collapsed": false
   }
  },
  {
   "cell_type": "code",
   "execution_count": 39,
   "outputs": [
    {
     "name": "stdout",
     "output_type": "stream",
     "text": [
      "   userId  movieId  rating   timestamp\n",
      "0       1      296     5.0  1147880044\n",
      "1       1      306     3.5  1147868817\n",
      "2       1      307     5.0  1147868828\n",
      "3       1      665     5.0  1147878820\n",
      "4       1      899     3.5  1147868510\n",
      "   movieId                               title  \\\n",
      "0        1                    Toy Story (1995)   \n",
      "1        2                      Jumanji (1995)   \n",
      "2        3             Grumpier Old Men (1995)   \n",
      "3        4            Waiting to Exhale (1995)   \n",
      "4        5  Father of the Bride Part II (1995)   \n",
      "\n",
      "                                        genres  \n",
      "0  Adventure|Animation|Children|Comedy|Fantasy  \n",
      "1                   Adventure|Children|Fantasy  \n",
      "2                               Comedy|Romance  \n",
      "3                         Comedy|Drama|Romance  \n",
      "4                                       Comedy  \n"
     ]
    }
   ],
   "source": [
    "print(rating_data.head())\n",
    "print(movies_data.head())"
   ],
   "metadata": {
    "collapsed": false
   }
  },
  {
   "cell_type": "markdown",
   "source": [
    "Merge rating and movies data and drop unnecessary columns"
   ],
   "metadata": {
    "collapsed": false
   }
  },
  {
   "cell_type": "code",
   "execution_count": 40,
   "outputs": [],
   "source": [
    "merge_data = pd.merge(rating_data,movies_data)\n",
    "merge_data= merge_data.drop(['timestamp','genres'], axis=1)"
   ],
   "metadata": {
    "collapsed": false
   }
  },
  {
   "cell_type": "code",
   "execution_count": 41,
   "outputs": [
    {
     "data": {
      "text/plain": "       userId  movieId  rating                 title\n0           1      296     5.0   Pulp Fiction (1994)\n1           3      296     5.0   Pulp Fiction (1994)\n2           4      296     4.0   Pulp Fiction (1994)\n3           5      296     4.0   Pulp Fiction (1994)\n4           7      296     4.0   Pulp Fiction (1994)\n...       ...      ...     ...                   ...\n13291     100      714     5.0       Dead Man (1995)\n13292     100      743     3.0       Spy Hard (1996)\n13293     100     1365     3.0       Ridicule (1996)\n13294     100     1366     4.0  Crucible, The (1996)\n13295     100     1399     4.0  Marvin's Room (1996)\n\n[13296 rows x 4 columns]",
      "text/html": "<div>\n<style scoped>\n    .dataframe tbody tr th:only-of-type {\n        vertical-align: middle;\n    }\n\n    .dataframe tbody tr th {\n        vertical-align: top;\n    }\n\n    .dataframe thead th {\n        text-align: right;\n    }\n</style>\n<table border=\"1\" class=\"dataframe\">\n  <thead>\n    <tr style=\"text-align: right;\">\n      <th></th>\n      <th>userId</th>\n      <th>movieId</th>\n      <th>rating</th>\n      <th>title</th>\n    </tr>\n  </thead>\n  <tbody>\n    <tr>\n      <th>0</th>\n      <td>1</td>\n      <td>296</td>\n      <td>5.0</td>\n      <td>Pulp Fiction (1994)</td>\n    </tr>\n    <tr>\n      <th>1</th>\n      <td>3</td>\n      <td>296</td>\n      <td>5.0</td>\n      <td>Pulp Fiction (1994)</td>\n    </tr>\n    <tr>\n      <th>2</th>\n      <td>4</td>\n      <td>296</td>\n      <td>4.0</td>\n      <td>Pulp Fiction (1994)</td>\n    </tr>\n    <tr>\n      <th>3</th>\n      <td>5</td>\n      <td>296</td>\n      <td>4.0</td>\n      <td>Pulp Fiction (1994)</td>\n    </tr>\n    <tr>\n      <th>4</th>\n      <td>7</td>\n      <td>296</td>\n      <td>4.0</td>\n      <td>Pulp Fiction (1994)</td>\n    </tr>\n    <tr>\n      <th>...</th>\n      <td>...</td>\n      <td>...</td>\n      <td>...</td>\n      <td>...</td>\n    </tr>\n    <tr>\n      <th>13291</th>\n      <td>100</td>\n      <td>714</td>\n      <td>5.0</td>\n      <td>Dead Man (1995)</td>\n    </tr>\n    <tr>\n      <th>13292</th>\n      <td>100</td>\n      <td>743</td>\n      <td>3.0</td>\n      <td>Spy Hard (1996)</td>\n    </tr>\n    <tr>\n      <th>13293</th>\n      <td>100</td>\n      <td>1365</td>\n      <td>3.0</td>\n      <td>Ridicule (1996)</td>\n    </tr>\n    <tr>\n      <th>13294</th>\n      <td>100</td>\n      <td>1366</td>\n      <td>4.0</td>\n      <td>Crucible, The (1996)</td>\n    </tr>\n    <tr>\n      <th>13295</th>\n      <td>100</td>\n      <td>1399</td>\n      <td>4.0</td>\n      <td>Marvin's Room (1996)</td>\n    </tr>\n  </tbody>\n</table>\n<p>13296 rows × 4 columns</p>\n</div>"
     },
     "execution_count": 41,
     "metadata": {},
     "output_type": "execute_result"
    }
   ],
   "source": [
    "merge_data"
   ],
   "metadata": {
    "collapsed": false
   }
  },
  {
   "cell_type": "markdown",
   "source": [
    "Create user time matrix"
   ],
   "metadata": {
    "collapsed": false
   }
  },
  {
   "cell_type": "code",
   "execution_count": 62,
   "outputs": [],
   "source": [
    "matrix = merge_data.pivot_table(index='userId', columns='title', values='rating')"
   ],
   "metadata": {
    "collapsed": false
   }
  },
  {
   "cell_type": "code",
   "execution_count": 63,
   "outputs": [
    {
     "data": {
      "text/plain": "title   $5 a Day (2008)  'Round Midnight (1986)  'burbs, The (1989)  \\\nuserId                                                                \n1                   NaN                     NaN                 NaN   \n2                   NaN                     NaN                 NaN   \n3                   NaN                     NaN                 NaN   \n4                   NaN                     NaN                 NaN   \n5                   NaN                     NaN                 NaN   \n...                 ...                     ...                 ...   \n96                  NaN                     NaN                 NaN   \n97                  NaN                     NaN                 NaN   \n98                  NaN                     NaN                 NaN   \n99                  NaN                     NaN                 NaN   \n100                 NaN                     NaN                 NaN   \n\ntitle   (500) Days of Summer (2009)  \\\nuserId                                \n1                               NaN   \n2                               NaN   \n3                               NaN   \n4                               NaN   \n5                               NaN   \n...                             ...   \n96                              5.0   \n97                              NaN   \n98                              NaN   \n99                              NaN   \n100                             NaN   \n\ntitle   (Dis)Honesty: The Truth About Lies (2015)  \\\nuserId                                              \n1                                             NaN   \n2                                             NaN   \n3                                             NaN   \n4                                             NaN   \n5                                             NaN   \n...                                           ...   \n96                                            NaN   \n97                                            NaN   \n98                                            NaN   \n99                                            NaN   \n100                                           NaN   \n\ntitle   ...And Justice for All (1979)  10 (1979)  10 Rillington Place (1971)  \\\nuserId                                                                         \n1                                 NaN        NaN                         NaN   \n2                                 NaN        NaN                         NaN   \n3                                 NaN        NaN                         NaN   \n4                                 NaN        NaN                         NaN   \n5                                 NaN        NaN                         NaN   \n...                               ...        ...                         ...   \n96                                NaN        NaN                         NaN   \n97                                NaN        NaN                         NaN   \n98                                NaN        NaN                         NaN   \n99                                NaN        NaN                         NaN   \n100                               NaN        NaN                         NaN   \n\ntitle   10 Things I Hate About You (1999)  10,000 BC (2008)  ...  \\\nuserId                                                       ...   \n1                                     NaN               NaN  ...   \n2                                     NaN               NaN  ...   \n3                                     NaN               NaN  ...   \n4                                     NaN               NaN  ...   \n5                                     NaN               NaN  ...   \n...                                   ...               ...  ...   \n96                                    NaN               NaN  ...   \n97                                    NaN               NaN  ...   \n98                                    5.0               NaN  ...   \n99                                    NaN               NaN  ...   \n100                                   NaN               NaN  ...   \n\ntitle   Zack and Miri Make a Porno (2008)  Zelig (1983)  Zero Effect (1998)  \\\nuserId                                                                        \n1                                     NaN           NaN                 NaN   \n2                                     NaN           NaN                 NaN   \n3                                     NaN           NaN                 NaN   \n4                                     NaN           NaN                 NaN   \n5                                     NaN           NaN                 NaN   \n...                                   ...           ...                 ...   \n96                                    NaN           NaN                 NaN   \n97                                    NaN           NaN                 NaN   \n98                                    NaN           NaN                 NaN   \n99                                    NaN           NaN                 NaN   \n100                                   NaN           NaN                 NaN   \n\ntitle   Zombieland (2009)  Zoolander (2001)  Zootopia (2016)  eXistenZ (1999)  \\\nuserId                                                                          \n1                     NaN               NaN              NaN              NaN   \n2                     NaN               NaN              NaN              NaN   \n3                     4.0               3.5              NaN              NaN   \n4                     NaN               4.0              4.5              NaN   \n5                     NaN               NaN              NaN              NaN   \n...                   ...               ...              ...              ...   \n96                    NaN               NaN              NaN              NaN   \n97                    NaN               NaN              NaN              NaN   \n98                    NaN               NaN              NaN              NaN   \n99                    NaN               NaN              NaN              NaN   \n100                   NaN               NaN              NaN              NaN   \n\ntitle   xXx (2002)  xXx: State of the Union (2005)  ¡Three Amigos! (1986)  \nuserId                                                                     \n1              NaN                             NaN                    NaN  \n2              NaN                             NaN                    NaN  \n3              3.5                             NaN                    NaN  \n4              NaN                             NaN                    NaN  \n5              NaN                             NaN                    NaN  \n...            ...                             ...                    ...  \n96             NaN                             NaN                    NaN  \n97             NaN                             NaN                    NaN  \n98             NaN                             NaN                    NaN  \n99             NaN                             NaN                    NaN  \n100            NaN                             NaN                    NaN  \n\n[100 rows x 3809 columns]",
      "text/html": "<div>\n<style scoped>\n    .dataframe tbody tr th:only-of-type {\n        vertical-align: middle;\n    }\n\n    .dataframe tbody tr th {\n        vertical-align: top;\n    }\n\n    .dataframe thead th {\n        text-align: right;\n    }\n</style>\n<table border=\"1\" class=\"dataframe\">\n  <thead>\n    <tr style=\"text-align: right;\">\n      <th>title</th>\n      <th>$5 a Day (2008)</th>\n      <th>'Round Midnight (1986)</th>\n      <th>'burbs, The (1989)</th>\n      <th>(500) Days of Summer (2009)</th>\n      <th>(Dis)Honesty: The Truth About Lies (2015)</th>\n      <th>...And Justice for All (1979)</th>\n      <th>10 (1979)</th>\n      <th>10 Rillington Place (1971)</th>\n      <th>10 Things I Hate About You (1999)</th>\n      <th>10,000 BC (2008)</th>\n      <th>...</th>\n      <th>Zack and Miri Make a Porno (2008)</th>\n      <th>Zelig (1983)</th>\n      <th>Zero Effect (1998)</th>\n      <th>Zombieland (2009)</th>\n      <th>Zoolander (2001)</th>\n      <th>Zootopia (2016)</th>\n      <th>eXistenZ (1999)</th>\n      <th>xXx (2002)</th>\n      <th>xXx: State of the Union (2005)</th>\n      <th>¡Three Amigos! (1986)</th>\n    </tr>\n    <tr>\n      <th>userId</th>\n      <th></th>\n      <th></th>\n      <th></th>\n      <th></th>\n      <th></th>\n      <th></th>\n      <th></th>\n      <th></th>\n      <th></th>\n      <th></th>\n      <th></th>\n      <th></th>\n      <th></th>\n      <th></th>\n      <th></th>\n      <th></th>\n      <th></th>\n      <th></th>\n      <th></th>\n      <th></th>\n      <th></th>\n    </tr>\n  </thead>\n  <tbody>\n    <tr>\n      <th>1</th>\n      <td>NaN</td>\n      <td>NaN</td>\n      <td>NaN</td>\n      <td>NaN</td>\n      <td>NaN</td>\n      <td>NaN</td>\n      <td>NaN</td>\n      <td>NaN</td>\n      <td>NaN</td>\n      <td>NaN</td>\n      <td>...</td>\n      <td>NaN</td>\n      <td>NaN</td>\n      <td>NaN</td>\n      <td>NaN</td>\n      <td>NaN</td>\n      <td>NaN</td>\n      <td>NaN</td>\n      <td>NaN</td>\n      <td>NaN</td>\n      <td>NaN</td>\n    </tr>\n    <tr>\n      <th>2</th>\n      <td>NaN</td>\n      <td>NaN</td>\n      <td>NaN</td>\n      <td>NaN</td>\n      <td>NaN</td>\n      <td>NaN</td>\n      <td>NaN</td>\n      <td>NaN</td>\n      <td>NaN</td>\n      <td>NaN</td>\n      <td>...</td>\n      <td>NaN</td>\n      <td>NaN</td>\n      <td>NaN</td>\n      <td>NaN</td>\n      <td>NaN</td>\n      <td>NaN</td>\n      <td>NaN</td>\n      <td>NaN</td>\n      <td>NaN</td>\n      <td>NaN</td>\n    </tr>\n    <tr>\n      <th>3</th>\n      <td>NaN</td>\n      <td>NaN</td>\n      <td>NaN</td>\n      <td>NaN</td>\n      <td>NaN</td>\n      <td>NaN</td>\n      <td>NaN</td>\n      <td>NaN</td>\n      <td>NaN</td>\n      <td>NaN</td>\n      <td>...</td>\n      <td>NaN</td>\n      <td>NaN</td>\n      <td>NaN</td>\n      <td>4.0</td>\n      <td>3.5</td>\n      <td>NaN</td>\n      <td>NaN</td>\n      <td>3.5</td>\n      <td>NaN</td>\n      <td>NaN</td>\n    </tr>\n    <tr>\n      <th>4</th>\n      <td>NaN</td>\n      <td>NaN</td>\n      <td>NaN</td>\n      <td>NaN</td>\n      <td>NaN</td>\n      <td>NaN</td>\n      <td>NaN</td>\n      <td>NaN</td>\n      <td>NaN</td>\n      <td>NaN</td>\n      <td>...</td>\n      <td>NaN</td>\n      <td>NaN</td>\n      <td>NaN</td>\n      <td>NaN</td>\n      <td>4.0</td>\n      <td>4.5</td>\n      <td>NaN</td>\n      <td>NaN</td>\n      <td>NaN</td>\n      <td>NaN</td>\n    </tr>\n    <tr>\n      <th>5</th>\n      <td>NaN</td>\n      <td>NaN</td>\n      <td>NaN</td>\n      <td>NaN</td>\n      <td>NaN</td>\n      <td>NaN</td>\n      <td>NaN</td>\n      <td>NaN</td>\n      <td>NaN</td>\n      <td>NaN</td>\n      <td>...</td>\n      <td>NaN</td>\n      <td>NaN</td>\n      <td>NaN</td>\n      <td>NaN</td>\n      <td>NaN</td>\n      <td>NaN</td>\n      <td>NaN</td>\n      <td>NaN</td>\n      <td>NaN</td>\n      <td>NaN</td>\n    </tr>\n    <tr>\n      <th>...</th>\n      <td>...</td>\n      <td>...</td>\n      <td>...</td>\n      <td>...</td>\n      <td>...</td>\n      <td>...</td>\n      <td>...</td>\n      <td>...</td>\n      <td>...</td>\n      <td>...</td>\n      <td>...</td>\n      <td>...</td>\n      <td>...</td>\n      <td>...</td>\n      <td>...</td>\n      <td>...</td>\n      <td>...</td>\n      <td>...</td>\n      <td>...</td>\n      <td>...</td>\n      <td>...</td>\n    </tr>\n    <tr>\n      <th>96</th>\n      <td>NaN</td>\n      <td>NaN</td>\n      <td>NaN</td>\n      <td>5.0</td>\n      <td>NaN</td>\n      <td>NaN</td>\n      <td>NaN</td>\n      <td>NaN</td>\n      <td>NaN</td>\n      <td>NaN</td>\n      <td>...</td>\n      <td>NaN</td>\n      <td>NaN</td>\n      <td>NaN</td>\n      <td>NaN</td>\n      <td>NaN</td>\n      <td>NaN</td>\n      <td>NaN</td>\n      <td>NaN</td>\n      <td>NaN</td>\n      <td>NaN</td>\n    </tr>\n    <tr>\n      <th>97</th>\n      <td>NaN</td>\n      <td>NaN</td>\n      <td>NaN</td>\n      <td>NaN</td>\n      <td>NaN</td>\n      <td>NaN</td>\n      <td>NaN</td>\n      <td>NaN</td>\n      <td>NaN</td>\n      <td>NaN</td>\n      <td>...</td>\n      <td>NaN</td>\n      <td>NaN</td>\n      <td>NaN</td>\n      <td>NaN</td>\n      <td>NaN</td>\n      <td>NaN</td>\n      <td>NaN</td>\n      <td>NaN</td>\n      <td>NaN</td>\n      <td>NaN</td>\n    </tr>\n    <tr>\n      <th>98</th>\n      <td>NaN</td>\n      <td>NaN</td>\n      <td>NaN</td>\n      <td>NaN</td>\n      <td>NaN</td>\n      <td>NaN</td>\n      <td>NaN</td>\n      <td>NaN</td>\n      <td>5.0</td>\n      <td>NaN</td>\n      <td>...</td>\n      <td>NaN</td>\n      <td>NaN</td>\n      <td>NaN</td>\n      <td>NaN</td>\n      <td>NaN</td>\n      <td>NaN</td>\n      <td>NaN</td>\n      <td>NaN</td>\n      <td>NaN</td>\n      <td>NaN</td>\n    </tr>\n    <tr>\n      <th>99</th>\n      <td>NaN</td>\n      <td>NaN</td>\n      <td>NaN</td>\n      <td>NaN</td>\n      <td>NaN</td>\n      <td>NaN</td>\n      <td>NaN</td>\n      <td>NaN</td>\n      <td>NaN</td>\n      <td>NaN</td>\n      <td>...</td>\n      <td>NaN</td>\n      <td>NaN</td>\n      <td>NaN</td>\n      <td>NaN</td>\n      <td>NaN</td>\n      <td>NaN</td>\n      <td>NaN</td>\n      <td>NaN</td>\n      <td>NaN</td>\n      <td>NaN</td>\n    </tr>\n    <tr>\n      <th>100</th>\n      <td>NaN</td>\n      <td>NaN</td>\n      <td>NaN</td>\n      <td>NaN</td>\n      <td>NaN</td>\n      <td>NaN</td>\n      <td>NaN</td>\n      <td>NaN</td>\n      <td>NaN</td>\n      <td>NaN</td>\n      <td>...</td>\n      <td>NaN</td>\n      <td>NaN</td>\n      <td>NaN</td>\n      <td>NaN</td>\n      <td>NaN</td>\n      <td>NaN</td>\n      <td>NaN</td>\n      <td>NaN</td>\n      <td>NaN</td>\n      <td>NaN</td>\n    </tr>\n  </tbody>\n</table>\n<p>100 rows × 3809 columns</p>\n</div>"
     },
     "execution_count": 63,
     "metadata": {},
     "output_type": "execute_result"
    }
   ],
   "source": [
    "matrix"
   ],
   "metadata": {
    "collapsed": false
   }
  },
  {
   "cell_type": "code",
   "execution_count": 68,
   "outputs": [],
   "source": [
    "item_similarity = cosine_similarity(matrix.fillna(0))\n",
    "np.fill_diagonal(item_similarity, 0)"
   ],
   "metadata": {
    "collapsed": false
   }
  },
  {
   "cell_type": "code",
   "execution_count": 1,
   "outputs": [],
   "source": [
    "def get_recommendations(user, top=5):\n",
    "    # Get the user's ratings and item similarity\n",
    "    user_ratings = matrix.loc[user].values.reshape(-1, 1)\n",
    "    similarity_scores = item_similarity.dot(user_ratings.T).reshape(-1)\n",
    "\n",
    "    # Sort the movies based on similarity scores\n",
    "    sorted_indices = np.argsort(similarity_scores)[::-1]\n",
    "    top_indices = sorted_indices[:top]\n",
    "\n",
    "    # Get the recommended movie IDs\n",
    "    recommended_movie_ids = user_item_matrix.columns[top_indices]\n",
    "\n",
    "    # Get the movie titles\n",
    "    recommended_movies = movies_data[movies_data['movieId'].isin(recommended_movie_ids)]\n",
    "\n",
    "    return recommended_movies"
   ],
   "metadata": {
    "collapsed": false
   }
  },
  {
   "cell_type": "code",
   "execution_count": null,
   "outputs": [],
   "source": [],
   "metadata": {
    "collapsed": false
   }
  }
 ],
 "metadata": {
  "kernelspec": {
   "display_name": "Python 3",
   "language": "python",
   "name": "python3"
  },
  "language_info": {
   "codemirror_mode": {
    "name": "ipython",
    "version": 2
   },
   "file_extension": ".py",
   "mimetype": "text/x-python",
   "name": "python",
   "nbconvert_exporter": "python",
   "pygments_lexer": "ipython2",
   "version": "2.7.6"
  }
 },
 "nbformat": 4,
 "nbformat_minor": 0
}
