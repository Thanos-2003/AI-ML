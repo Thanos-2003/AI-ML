{
 "cells": [
  {
   "cell_type": "code",
   "execution_count": 303,
   "metadata": {},
   "outputs": [],
   "source": [
    "import pandas as pd\n",
    "\n",
    "from sklearn import metrics\n",
    "from sklearn.linear_model import LogisticRegression \n",
    "from sklearn.model_selection import train_test_split\n",
    "from sklearn.metrics import accuracy_score\n",
    "import matplotlib.pyplot as plt\n"
   ]
  },
  {
   "cell_type": "markdown",
   "metadata": {},
   "source": [
    "\n",
    "About Dataset\n",
    "The breast cancer dataset provides information for analysing and understanding breast cancer sample. Including Nine features, including both linear and nominal variables, the dataset offers insights into numerous elements associated with breast cancer occurrence and recurrence.\n",
    "The class attribute specifically indicates whether a particular attribute belongs in which class \"no-recurrence-events\" or \"recurrence-events\" class, providing a clear difference between patients who experience cancer recurrence and those who do not.\n",
    "The \"Age\" feature represents the age range of the patient providing information about the age associated with breast cancer cases. The \"Menopause\" feature illustrates the menopausal state of the patient providing insight into the potential impact of hormonal changes on breast cancer occurrence.\n",
    "The \"Tumour size\" attribute provides information about the size of the tumour, a crucial factor in progression of breast cancer. The \"Node-caps\" attribute indicates whether the cancer has affected the lymph nodes, providing insights into the potential involvement of the lymphatic system in cancer progression.\n",
    "The \"Inv-nodes\" attribute represents the number of involved lymph nodes, which is significant in determining the spread of cancer cells and assessing the stage of the disease.\n",
    "The \"Deg-malig\" attribute signifies the degree of malignancy, offering information about the aggressiveness and severity of the cancer.\n",
    "Attributes such as \"Breast\" and \"Breast-quad\" provide details on the which side is affected of the breast and the specific quadrant where the tumour is located, respectively. These features contribute to understanding the spatial distribution and localization of breast cancer cases.\n",
    "Last attribute, the \"Irradiat\" attribute indicates whether the patient will have radiation therapy as part of their medication, highlighting the impact of this intervention on cancer management.\n",
    "The breast cancer dataset, with its comprehensive set of attributes, allows to examine the relationships between various factors and the occurrence or recurrence of breast cancer. By analysing this dataset, valuable insights can be gained to improve diagnostic techniques, treatment strategies, and overall patient care."
   ]
  },
  {
   "cell_type": "code",
   "execution_count": 304,
   "metadata": {},
   "outputs": [
    {
     "data": {
      "text/html": [
       "<div>\n",
       "<style scoped>\n",
       "    .dataframe tbody tr th:only-of-type {\n",
       "        vertical-align: middle;\n",
       "    }\n",
       "\n",
       "    .dataframe tbody tr th {\n",
       "        vertical-align: top;\n",
       "    }\n",
       "\n",
       "    .dataframe thead th {\n",
       "        text-align: right;\n",
       "    }\n",
       "</style>\n",
       "<table border=\"1\" class=\"dataframe\">\n",
       "  <thead>\n",
       "    <tr style=\"text-align: right;\">\n",
       "      <th></th>\n",
       "      <th>age</th>\n",
       "      <th>menopause</th>\n",
       "      <th>tumor-size</th>\n",
       "      <th>inv-nodes</th>\n",
       "      <th>node-caps</th>\n",
       "      <th>deg-malig</th>\n",
       "      <th>breast</th>\n",
       "      <th>breast-quad</th>\n",
       "      <th>irradiat</th>\n",
       "      <th>Class</th>\n",
       "    </tr>\n",
       "  </thead>\n",
       "  <tbody>\n",
       "    <tr>\n",
       "      <th>0</th>\n",
       "      <td>40-49</td>\n",
       "      <td>premeno</td>\n",
       "      <td>15-19</td>\n",
       "      <td>0-2</td>\n",
       "      <td>yes</td>\n",
       "      <td>3</td>\n",
       "      <td>right</td>\n",
       "      <td>left_up</td>\n",
       "      <td>no</td>\n",
       "      <td>recurrence-events</td>\n",
       "    </tr>\n",
       "    <tr>\n",
       "      <th>1</th>\n",
       "      <td>50-59</td>\n",
       "      <td>ge40</td>\n",
       "      <td>15-19</td>\n",
       "      <td>0-2</td>\n",
       "      <td>no</td>\n",
       "      <td>1</td>\n",
       "      <td>right</td>\n",
       "      <td>central</td>\n",
       "      <td>no</td>\n",
       "      <td>no-recurrence-events</td>\n",
       "    </tr>\n",
       "    <tr>\n",
       "      <th>2</th>\n",
       "      <td>50-59</td>\n",
       "      <td>ge40</td>\n",
       "      <td>35-39</td>\n",
       "      <td>0-2</td>\n",
       "      <td>no</td>\n",
       "      <td>2</td>\n",
       "      <td>left</td>\n",
       "      <td>left_low</td>\n",
       "      <td>no</td>\n",
       "      <td>recurrence-events</td>\n",
       "    </tr>\n",
       "    <tr>\n",
       "      <th>3</th>\n",
       "      <td>40-49</td>\n",
       "      <td>premeno</td>\n",
       "      <td>35-39</td>\n",
       "      <td>0-2</td>\n",
       "      <td>yes</td>\n",
       "      <td>3</td>\n",
       "      <td>right</td>\n",
       "      <td>left_low</td>\n",
       "      <td>yes</td>\n",
       "      <td>no-recurrence-events</td>\n",
       "    </tr>\n",
       "    <tr>\n",
       "      <th>4</th>\n",
       "      <td>40-49</td>\n",
       "      <td>premeno</td>\n",
       "      <td>30-34</td>\n",
       "      <td>3-5</td>\n",
       "      <td>yes</td>\n",
       "      <td>2</td>\n",
       "      <td>left</td>\n",
       "      <td>right_up</td>\n",
       "      <td>no</td>\n",
       "      <td>recurrence-events</td>\n",
       "    </tr>\n",
       "  </tbody>\n",
       "</table>\n",
       "</div>"
      ],
      "text/plain": [
       "     age menopause tumor-size inv-nodes node-caps  deg-malig breast  \\\n",
       "0  40-49   premeno      15-19       0-2       yes          3  right   \n",
       "1  50-59      ge40      15-19       0-2        no          1  right   \n",
       "2  50-59      ge40      35-39       0-2        no          2   left   \n",
       "3  40-49   premeno      35-39       0-2       yes          3  right   \n",
       "4  40-49   premeno      30-34       3-5       yes          2   left   \n",
       "\n",
       "  breast-quad irradiat                 Class  \n",
       "0     left_up       no     recurrence-events  \n",
       "1     central       no  no-recurrence-events  \n",
       "2    left_low       no     recurrence-events  \n",
       "3    left_low      yes  no-recurrence-events  \n",
       "4    right_up       no     recurrence-events  "
      ]
     },
     "execution_count": 304,
     "metadata": {},
     "output_type": "execute_result"
    }
   ],
   "source": [
    "dataset = pd.read_csv(\"D:/DNN/breast-cancer_csv.csv\")\n",
    "dataset.head()"
   ]
  },
  {
   "cell_type": "code",
   "execution_count": 305,
   "metadata": {},
   "outputs": [
    {
     "name": "stdout",
     "output_type": "stream",
     "text": [
      "no-recurrence-events    201\n",
      "recurrence-events        85\n",
      "Name: Class, dtype: int64\n",
      "no     218\n",
      "yes     68\n",
      "Name: irradiat, dtype: int64\n"
     ]
    }
   ],
   "source": [
    "print(dataset.Class.value_counts())\n",
    "print(dataset.irradiat.value_counts())"
   ]
  },
  {
   "cell_type": "code",
   "execution_count": 306,
   "metadata": {},
   "outputs": [
    {
     "name": "stdout",
     "output_type": "stream",
     "text": [
      "Unique values for 'age': ['40-49' '50-59' '60-69' '30-39' '70-79' '20-29']\n",
      "Unique values for 'menopause': ['premeno' 'ge40' 'lt40']\n",
      "Unique values for 'tumor-size': ['15-19' '35-39' '30-34' '25-29' '40-44' '10-14' '0-4' '20-24' '45-49'\n",
      " '50-54' '5-9']\n",
      "Unique values for 'inv-nodes': ['0-2' '3-5' '15-17' '6-8' '9-11' '24-26' '12-14']\n",
      "Unique values for 'node-caps': ['yes' 'no' nan]\n",
      "Unique values for 'deg-malig': [3 1 2]\n",
      "Unique values for 'breast': ['right' 'left']\n",
      "Unique values for 'breast-quad': ['left_up' 'central' 'left_low' 'right_up' 'right_low' nan]\n",
      "Unique values for 'irradiat': ['no' 'yes']\n",
      "Unique values for 'Class': ['recurrence-events' 'no-recurrence-events']\n"
     ]
    }
   ],
   "source": [
    "print(\"Unique values for 'age':\", dataset['age'].unique())\n",
    "print(\"Unique values for 'menopause':\", dataset['menopause'].unique())\n",
    "print(\"Unique values for 'tumor-size':\", dataset['tumor-size'].unique())\n",
    "print(\"Unique values for 'inv-nodes':\", dataset['inv-nodes'].unique())\n",
    "print(\"Unique values for 'node-caps':\", dataset['node-caps'].unique())\n",
    "print(\"Unique values for 'deg-malig':\", dataset['deg-malig'].unique())\n",
    "print(\"Unique values for 'breast':\", dataset['breast'].unique())\n",
    "print(\"Unique values for 'breast-quad':\", dataset['breast-quad'].unique())\n",
    "print(\"Unique values for 'irradiat':\", dataset['irradiat'].unique())\n",
    "print(\"Unique values for 'Class':\", dataset['Class'].unique())"
   ]
  },
  {
   "cell_type": "code",
   "execution_count": 307,
   "metadata": {},
   "outputs": [
    {
     "name": "stdout",
     "output_type": "stream",
     "text": [
      "   age  menopause  tumor-size  inv-nodes  node-caps  deg-malig  breast  \\\n",
      "0    2          2           2          0          2          3       1   \n",
      "1    3          0           2          0          1          1       1   \n",
      "2    3          0           6          0          1          2       0   \n",
      "3    2          2           6          0          2          3       1   \n",
      "4    2          2           5          4          2          2       0   \n",
      "\n",
      "   breast-quad  irradiat  Class  \n",
      "0            2         0      1  \n",
      "1            0         0      0  \n",
      "2            1         0      1  \n",
      "3            1         1      0  \n",
      "4            5         0      1  \n"
     ]
    }
   ],
   "source": [
    "from sklearn.preprocessing import LabelEncoder\n",
    "\n",
    "# Create a LabelEncoder object\n",
    "label_encoder = LabelEncoder()\n",
    "\n",
    "# Convert each nominal attribute to numerical values\n",
    "dataset['age'] = label_encoder.fit_transform(dataset['age'])\n",
    "dataset['menopause'] = label_encoder.fit_transform(dataset['menopause'])\n",
    "dataset['tumor-size'] = label_encoder.fit_transform(dataset['tumor-size'])\n",
    "dataset['inv-nodes'] = label_encoder.fit_transform(dataset['inv-nodes'])\n",
    "dataset['node-caps'] = label_encoder.fit_transform(dataset['node-caps'].astype(str))  # Convert NaN values to string\n",
    "dataset['breast'] = label_encoder.fit_transform(dataset['breast'])\n",
    "dataset['breast-quad'] = label_encoder.fit_transform(dataset['breast-quad'].astype(str))  # Convert NaN values to string\n",
    "dataset['irradiat'] = label_encoder.fit_transform(dataset['irradiat'])\n",
    "dataset['Class'] = label_encoder.fit_transform(dataset['Class'])\n",
    "\n",
    "# Display the updated dataset\n",
    "print(dataset.head())"
   ]
  },
  {
   "cell_type": "code",
   "execution_count": null,
   "metadata": {},
   "outputs": [],
   "source": []
  },
  {
   "cell_type": "markdown",
   "metadata": {},
   "source": [
    "ML model using logistic regression algorithm"
   ]
  },
  {
   "cell_type": "code",
   "execution_count": 308,
   "metadata": {},
   "outputs": [],
   "source": [
    "x= dataset.drop(columns=['Class','breast','breast-quad','irradiat','age'] ,axis=1)\n",
    "y= dataset['Class']"
   ]
  },
  {
   "cell_type": "code",
   "execution_count": 309,
   "metadata": {},
   "outputs": [],
   "source": [
    "X_train, X_test, Y_train, Y_test = train_test_split(x,y,test_size=0.25,stratify=y,random_state=2)"
   ]
  },
  {
   "cell_type": "code",
   "execution_count": 310,
   "metadata": {},
   "outputs": [
    {
     "name": "stdout",
     "output_type": "stream",
     "text": [
      "accuracy :  0.8055555555555556\n"
     ]
    }
   ],
   "source": [
    "model = LogisticRegression()\n",
    "model.fit(X_train,Y_train)\n",
    "X_test_prediction = model.predict(X_test)\n",
    "test_data_accuracy= accuracy_score(X_test_prediction,Y_test)\n",
    "print('accuracy : ',test_data_accuracy)"
   ]
  },
  {
   "cell_type": "code",
   "execution_count": 311,
   "metadata": {},
   "outputs": [
    {
     "data": {
      "image/png": "[encoded data removed]",
      "text/plain": [
       "<Figure size 640x480 with 2 Axes>"
      ]
     },
     "metadata": {},
     "output_type": "display_data"
    }
   ],
   "source": [
    "actual =Y_test\n",
    "predicted=X_test_prediction\n",
    "confusion_matrix = metrics.confusion_matrix(actual,predicted)\n",
    "cm_display = metrics.ConfusionMatrixDisplay(confusion_matrix = confusion_matrix,display_labels=['recurrence-events','no-recurrence-events'])\n",
    "cm_display.plot()\n",
    "plt.show()"
   ]
  },
  {
   "cell_type": "code",
   "execution_count": null,
   "metadata": {},
   "outputs": [],
   "source": []
  }
 ],
 "metadata": {
  "kernelspec": {
   "display_name": "Python 3",
   "language": "python",
   "name": "python3"
  },
  "language_info": {
   "codemirror_mode": {
    "name": "ipython",
    "version": 3
   },
   "file_extension": ".py",
   "mimetype": "text/x-python",
   "name": "python",
   "nbconvert_exporter": "python",
   "pygments_lexer": "ipython3",
   "version": "3.9.13"
  }
 },
 "nbformat": 4,
 "nbformat_minor": 2
}
